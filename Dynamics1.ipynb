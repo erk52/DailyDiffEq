{
 "cells": [
  {
   "cell_type": "code",
   "execution_count": 4,
   "metadata": {
    "collapsed": false
   },
   "outputs": [],
   "source": [
    "import numpy as np\n",
    "import matplotlib.pyplot as plt\n",
    "%matplotlib inline"
   ]
  },
  {
   "cell_type": "code",
   "execution_count": 5,
   "metadata": {
    "collapsed": false
   },
   "outputs": [],
   "source": [
    "from ipywidgets import interact, interactive\n",
    "from IPython.display import clear_output, display, HTML\n"
   ]
  },
  {
   "cell_type": "code",
   "execution_count": 14,
   "metadata": {
    "collapsed": false
   },
   "outputs": [],
   "source": [
    "def solve_dynamics(r = 0):\n",
    "\n",
    "    #Finding fixed points and stability for \n",
    "    # x' = x + rx/(1+x^2)\n",
    "    \n",
    "    fig = plt.figure()\n",
    "    ax = fig.add_axes([0, 0, 1, 1])\n",
    "    \n",
    "    # prepare the axes limits\n",
    "    ax.set_xlim((-5, 5))\n",
    "    ax.set_ylim((-5, 5))\n",
    "    \n",
    "    #calculate x' and x\n",
    "    x = np.linspace(-5, 5,200)\n",
    "    x_p = np.asarray([a + r*a/(1+a**2) for a in x])\n",
    "    \n",
    "    lines = ax.plot(x, x_p, '-')\n",
    "    plt.setp(lines, linewidth=2)\n",
    "    \n",
    "    #Let's look at fixed points\n",
    "    #red for unstable and blue for stable\n",
    "    if r >= -1:\n",
    "        fixed = ax.plot([0], [0], 'ro', markersize=12)\n",
    "    else:\n",
    "        stable = ax.plot([0], [0], 'bo', markersize=12)\n",
    "        un_x1 = np.sqrt(-1 - r)\n",
    "        un_x2 = -np.sqrt(-1- r)\n",
    "        f1 = ax.plot([un_x1, un_x2], [0,0], 'ro', markersize=12)\n",
    "    \n",
    "    plt.annotate('r = {0}'.format(r), xy=(0.1,0.9), xycoords='axes fraction', fontsize=14)\n",
    "    #ax.view_init(30, angle)\n",
    "    plt.show()\n",
    "    ax.set_xlabel('x', fontsize=18)\n",
    "    return None"
   ]
  },
  {
   "cell_type": "code",
   "execution_count": 15,
   "metadata": {
    "collapsed": false,
    "scrolled": false
   },
   "outputs": [
    {
     "data": {
      "image/png": "[encoded data removed]",
      "text/plain": [
       "<matplotlib.figure.Figure at 0x9529940>"
      ]
     },
     "metadata": {},
     "output_type": "display_data"
    }
   ],
   "source": [
    "w = interactive(solve_dynamics, r=(-5.0,5.0))\n",
    "display(w)"
   ]
  }
 ],
 "metadata": {
  "kernelspec": {
   "display_name": "Python 3",
   "language": "python",
   "name": "python3"
  },
  "language_info": {
   "codemirror_mode": {
    "name": "ipython",
    "version": 3
   },
   "file_extension": ".py",
   "mimetype": "text/x-python",
   "name": "python",
   "nbconvert_exporter": "python",
   "pygments_lexer": "ipython3",
   "version": "3.4.4"
  }
 },
 "nbformat": 4,
 "nbformat_minor": 0
}
